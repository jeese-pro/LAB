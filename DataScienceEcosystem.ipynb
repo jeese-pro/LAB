{
 "cells": [
  {
   "cell_type": "markdown",
   "id": "ed82b350-97d7-445e-a838-b8ac5fa30c9a",
   "metadata": {},
   "source": [
    "# Data Science Tools and Ecosystem"
   ]
  },
  {
   "cell_type": "markdown",
   "id": "fea0e21b-8ee4-4ccf-836b-906e080d98b6",
   "metadata": {},
   "source": [
    "In this Notebook , the data science tools and ecosystems are summarized."
   ]
  },
  {
   "cell_type": "markdown",
   "id": "0519495d-f3b9-4a54-a9dd-cda456d4193e",
   "metadata": {},
   "source": [
    "Some of the popular languages that Data Scientists use are:\n",
    "1. python\n",
    "2. R\n",
    "3. SQL"
   ]
  },
  {
   "cell_type": "markdown",
   "id": "8a66891d-4a68-48f4-b40e-3b9f905d1270",
   "metadata": {},
   "source": [
    "Some of the commonly used libraries used by Data Scientists include:\n",
    "1. Pandas\n",
    "2. Numpy\n",
    "3. scikit - learn\n",
    "4. matplotLib"
   ]
  },
  {
   "cell_type": "markdown",
   "id": "aa1e3f3d-e9aa-4774-b8d4-c635ea104582",
   "metadata": {},
   "source": [
    "|s.no|Data Science Tools|\n",
    "|-   |----------------- |\n",
    "|1   |jupyter notebook  |\n",
    "|2   |R studio          |\n",
    "|3   |Syder             |"
   ]
  },
  {
   "cell_type": "markdown",
   "id": "14c3d511-f1fb-4bfe-ba13-06bd93447025",
   "metadata": {},
   "source": [
    "### Below are a few examples of evaluating arithmetic expressions in Python"
   ]
  },
  {
   "cell_type": "markdown",
   "id": "acfd2be2-c4b8-43c7-8ee3-d51ca5a4d5ba",
   "metadata": {},
   "source": [
    "This a simple arithmetic expression to multiply then add integers:\n"
   ]
  },
  {
   "cell_type": "code",
   "execution_count": 3,
   "id": "ee356393-cd82-443b-8ed4-617e8fb376a6",
   "metadata": {},
   "outputs": [
    {
     "data": {
      "text/plain": [
       "17"
      ]
     },
     "execution_count": 3,
     "metadata": {},
     "output_type": "execute_result"
    }
   ],
   "source": [
    "(3*4)+5\n"
   ]
  },
  {
   "cell_type": "markdown",
   "id": "d57d8473-8c0c-4817-a599-0c596bbefe64",
   "metadata": {},
   "source": [
    "This will convert 200 minutes to hours by diving by 60."
   ]
  },
  {
   "cell_type": "code",
   "execution_count": 4,
   "id": "c0d9b5e6-81b8-4017-b465-0c10b4073a51",
   "metadata": {},
   "outputs": [
    {
     "name": "stdout",
     "output_type": "stream",
     "text": [
      "200 minutes is equal to 3.3333333333333335 hours.\n"
     ]
    }
   ],
   "source": [
    "minutes = 200\n",
    "hours = minutes / 60\n",
    "print(\"{} minutes is equal to {} hours.\".format(minutes, hours))\n"
   ]
  },
  {
   "cell_type": "markdown",
   "id": "8b51d127-7129-47f0-8d33-f7b0bbfa72c9",
   "metadata": {},
   "source": [
    "list popular languages for data science\n",
    "* python\n",
    "* R\n",
    "* SQL\n",
    "* Julia\n",
    "* Java script"
   ]
  },
  {
   "cell_type": "markdown",
   "id": "b325a8c1-4b63-4ad5-b69d-bafee14639df",
   "metadata": {},
   "source": [
    "## AUTHOR"
   ]
  },
  {
   "cell_type": "markdown",
   "id": "4da37755-574b-48dd-98da-01dd4f6c8a96",
   "metadata": {},
   "source": [
    "Lakshmi holla, Nivedidha pandith."
   ]
  },
  {
   "cell_type": "code",
   "execution_count": null,
   "id": "18774cf3-be1a-4316-bbfd-de79d438d5ef",
   "metadata": {},
   "outputs": [],
   "source": []
  }
 ],
 "metadata": {
  "kernelspec": {
   "display_name": "Python 3 (ipykernel)",
   "language": "python",
   "name": "python3"
  },
  "language_info": {
   "codemirror_mode": {
    "name": "ipython",
    "version": 3
   },
   "file_extension": ".py",
   "mimetype": "text/x-python",
   "name": "python",
   "nbconvert_exporter": "python",
   "pygments_lexer": "ipython3",
   "version": "3.10.9"
  }
 },
 "nbformat": 4,
 "nbformat_minor": 5
}
